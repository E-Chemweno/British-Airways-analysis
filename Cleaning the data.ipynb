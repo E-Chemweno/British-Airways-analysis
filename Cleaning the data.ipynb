{
 "cells": [
  {
   "cell_type": "markdown",
   "metadata": {},
   "source": [
    "## Data Cleaning process\n",
    "\n",
    "After data extraction from the website, it is not cleaned and ready to be analyzed yet. The reviews section will need to be cleaned for punctuations, spellings and other characters. "
   ]
  },
  {
   "cell_type": "code",
   "execution_count": 1,
   "metadata": {},
   "outputs": [],
   "source": [
    "# Imports necessary libraries for data analysis and visualization\n",
    "\n",
    "import pandas as pd            # Pandas for data manipulation and analysis\n",
    "import matplotlib.pyplot as plt    # Matplotlib for creating static, interactive, and animated plots\n",
    "import seaborn as sns            # Seaborn for statistical data visualization\n",
    "import os                    # OS module for interacting with the operating system\n",
    "\n",
    "# Regular expression (regex) library for pattern matching and text manipulation\n",
    "import re\n"
   ]
  },
  {
   "cell_type": "code",
   "execution_count": 2,
   "metadata": {},
   "outputs": [],
   "source": [
    "# Obtain the current working directory\n",
    "cwd = os.getcwd()\n",
    "\n",
    "# Read a CSV file named \"BA_reviews.csv\" located in the current working directory\n",
    "# Create a Pandas DataFrame 'df' from the CSV data\n",
    "# Use the first column of the CSV file as the index of the DataFrame\n",
    "df = pd.read_csv(cwd + \"/BA_reviews.csv\", index_col=0)\n"
   ]
  },
  {
   "cell_type": "code",
   "execution_count": 3,
   "metadata": {},
   "outputs": [
    {
     "data": {
      "text/html": [
       "<div>\n",
       "<style scoped>\n",
       "    .dataframe tbody tr th:only-of-type {\n",
       "        vertical-align: middle;\n",
       "    }\n",
       "\n",
       "    .dataframe tbody tr th {\n",
       "        vertical-align: top;\n",
       "    }\n",
       "\n",
       "    .dataframe thead th {\n",
       "        text-align: right;\n",
       "    }\n",
       "</style>\n",
       "<table border=\"1\" class=\"dataframe\">\n",
       "  <thead>\n",
       "    <tr style=\"text-align: right;\">\n",
       "      <th></th>\n",
       "      <th>reviews</th>\n",
       "      <th>stars</th>\n",
       "      <th>date</th>\n",
       "      <th>country</th>\n",
       "    </tr>\n",
       "  </thead>\n",
       "  <tbody>\n",
       "    <tr>\n",
       "      <th>0</th>\n",
       "      <td>Not Verified |  Extremely rude ground service....</td>\n",
       "      <td>5</td>\n",
       "      <td>3rd January 2024</td>\n",
       "      <td>United States</td>\n",
       "    </tr>\n",
       "    <tr>\n",
       "      <th>1</th>\n",
       "      <td>✅ Trip Verified |  My son and I flew to Geneva...</td>\n",
       "      <td>6</td>\n",
       "      <td>2nd January 2024</td>\n",
       "      <td>China</td>\n",
       "    </tr>\n",
       "    <tr>\n",
       "      <th>2</th>\n",
       "      <td>✅ Trip Verified |  For the price paid (bought ...</td>\n",
       "      <td>1</td>\n",
       "      <td>29th December 2023</td>\n",
       "      <td>United Kingdom</td>\n",
       "    </tr>\n",
       "    <tr>\n",
       "      <th>3</th>\n",
       "      <td>✅ Trip Verified |  Flight left on time and arr...</td>\n",
       "      <td>8</td>\n",
       "      <td>29th December 2023</td>\n",
       "      <td>United Kingdom</td>\n",
       "    </tr>\n",
       "    <tr>\n",
       "      <th>4</th>\n",
       "      <td>✅ Trip Verified |  Very Poor Business class pr...</td>\n",
       "      <td>6</td>\n",
       "      <td>27th December 2023</td>\n",
       "      <td>United Kingdom</td>\n",
       "    </tr>\n",
       "  </tbody>\n",
       "</table>\n",
       "</div>"
      ],
      "text/plain": [
       "                                             reviews  stars  \\\n",
       "0  Not Verified |  Extremely rude ground service....      5   \n",
       "1  ✅ Trip Verified |  My son and I flew to Geneva...      6   \n",
       "2  ✅ Trip Verified |  For the price paid (bought ...      1   \n",
       "3  ✅ Trip Verified |  Flight left on time and arr...      8   \n",
       "4  ✅ Trip Verified |  Very Poor Business class pr...      6   \n",
       "\n",
       "                 date         country  \n",
       "0    3rd January 2024   United States  \n",
       "1    2nd January 2024           China  \n",
       "2  29th December 2023  United Kingdom  \n",
       "3  29th December 2023  United Kingdom  \n",
       "4  27th December 2023  United Kingdom  "
      ]
     },
     "execution_count": 3,
     "metadata": {},
     "output_type": "execute_result"
    }
   ],
   "source": [
    "# Display the first few rows of the DataFrame.\n",
    "# The 'head()' method is used to retrieve the initial rows of the DataFrame for quick inspection.\n",
    "# By default, it returns the first 5 rows, providing a snapshot of the data's structure and content.\n",
    "df.head()\n"
   ]
  },
  {
   "cell_type": "markdown",
   "metadata": {},
   "source": [
    "We will also create a column which mentions if the user is verified or not. "
   ]
  },
  {
   "cell_type": "code",
   "execution_count": 4,
   "metadata": {},
   "outputs": [],
   "source": [
    "# Add a new column 'verified' to the DataFrame 'df' based on whether the 'reviews' column contains the string \"Trip Verified\".\n",
    "# The 'str.contains()' method is used to check if each entry in the 'reviews' column contains the specified substring.\n",
    "# If the substring \"Trip Verified\" is found in a particular entry, the corresponding 'verified' column value is set to True; otherwise, it is set to False.\n",
    "df['verified'] = df.reviews.str.contains(\"Trip Verified\")\n"
   ]
  },
  {
   "cell_type": "code",
   "execution_count": 5,
   "metadata": {},
   "outputs": [
    {
     "data": {
      "text/plain": [
       "0      False\n",
       "1       True\n",
       "2       True\n",
       "3       True\n",
       "4       True\n",
       "       ...  \n",
       "345    False\n",
       "346     True\n",
       "347    False\n",
       "348     True\n",
       "349     True\n",
       "Name: verified, Length: 350, dtype: bool"
      ]
     },
     "execution_count": 5,
     "metadata": {},
     "output_type": "execute_result"
    }
   ],
   "source": [
    "# Accessing the 'verified' column in the Pandas DataFrame 'df'\n",
    "# This code returns the values in the 'verified' column, providing a Series.\n",
    "df['verified']"
   ]
  },
  {
   "cell_type": "markdown",
   "metadata": {},
   "source": [
    "### Cleaning Reviews\n",
    "We will extract the column of reviews into a separate dataframe and clean it for semantic analysis"
   ]
  },
  {
   "cell_type": "code",
   "execution_count": 6,
   "metadata": {},
   "outputs": [],
   "source": [
    "# Import the necessary libraries for lemmatization\n",
    "from nltk.stem import WordNetLemmatizer\n",
    "from nltk.corpus import stopwords\n",
    "\n",
    "# Initialize the WordNetLemmatizer for lemmatization\n",
    "lemma = WordNetLemmatizer()\n",
    "\n",
    "# Extract the 'reviews' column from the DataFrame and remove a specific prefix (\"✅ Trip Verified |\")\n",
    "reviews_data = df.reviews.str.strip(\"✅ Trip Verified |\")\n",
    "\n",
    "# Create an empty list to collect the cleaned data corpus\n",
    "corpus = []\n",
    "\n",
    "# Loop through each review in the 'reviews_data'\n",
    "for rev in reviews_data:\n",
    "    # Remove non-alphabetic characters, convert to lowercase, split into words\n",
    "    rev = re.sub('[^a-zA-Z]', ' ', rev)\n",
    "    rev = rev.lower()\n",
    "    rev = rev.split()\n",
    "    \n",
    "    # Lemmatize each word and remove stopwords\n",
    "    rev = [lemma.lemmatize(word) for word in rev if word not in set(stopwords.words(\"english\"))]\n",
    "    \n",
    "    # Join the cleaned words back into a string and append to the corpus list\n",
    "    rev = \" \".join(rev)\n",
    "    corpus.append(rev)\n"
   ]
  },
  {
   "cell_type": "code",
   "execution_count": 7,
   "metadata": {},
   "outputs": [],
   "source": [
    "# Add the cleaned and lemmatized corpus as a new column named 'corpus' to the original DataFrame 'df'\n",
    "df['corpus'] = corpus\n"
   ]
  },
  {
   "cell_type": "code",
   "execution_count": 8,
   "metadata": {},
   "outputs": [
    {
     "data": {
      "text/html": [
       "<div>\n",
       "<style scoped>\n",
       "    .dataframe tbody tr th:only-of-type {\n",
       "        vertical-align: middle;\n",
       "    }\n",
       "\n",
       "    .dataframe tbody tr th {\n",
       "        vertical-align: top;\n",
       "    }\n",
       "\n",
       "    .dataframe thead th {\n",
       "        text-align: right;\n",
       "    }\n",
       "</style>\n",
       "<table border=\"1\" class=\"dataframe\">\n",
       "  <thead>\n",
       "    <tr style=\"text-align: right;\">\n",
       "      <th></th>\n",
       "      <th>reviews</th>\n",
       "      <th>stars</th>\n",
       "      <th>date</th>\n",
       "      <th>country</th>\n",
       "      <th>verified</th>\n",
       "      <th>corpus</th>\n",
       "    </tr>\n",
       "  </thead>\n",
       "  <tbody>\n",
       "    <tr>\n",
       "      <th>0</th>\n",
       "      <td>Not Verified |  Extremely rude ground service....</td>\n",
       "      <td>5</td>\n",
       "      <td>3rd January 2024</td>\n",
       "      <td>United States</td>\n",
       "      <td>False</td>\n",
       "      <td>verified extremely rude ground service non rev...</td>\n",
       "    </tr>\n",
       "    <tr>\n",
       "      <th>1</th>\n",
       "      <td>✅ Trip Verified |  My son and I flew to Geneva...</td>\n",
       "      <td>6</td>\n",
       "      <td>2nd January 2024</td>\n",
       "      <td>China</td>\n",
       "      <td>True</td>\n",
       "      <td>son flew geneva last sunday skiing holiday le ...</td>\n",
       "    </tr>\n",
       "    <tr>\n",
       "      <th>2</th>\n",
       "      <td>✅ Trip Verified |  For the price paid (bought ...</td>\n",
       "      <td>1</td>\n",
       "      <td>29th December 2023</td>\n",
       "      <td>United Kingdom</td>\n",
       "      <td>True</td>\n",
       "      <td>price paid bought sale decent experience altho...</td>\n",
       "    </tr>\n",
       "    <tr>\n",
       "      <th>3</th>\n",
       "      <td>✅ Trip Verified |  Flight left on time and arr...</td>\n",
       "      <td>8</td>\n",
       "      <td>29th December 2023</td>\n",
       "      <td>United Kingdom</td>\n",
       "      <td>True</td>\n",
       "      <td>flight left time arrived half hour earlier sch...</td>\n",
       "    </tr>\n",
       "    <tr>\n",
       "      <th>4</th>\n",
       "      <td>✅ Trip Verified |  Very Poor Business class pr...</td>\n",
       "      <td>6</td>\n",
       "      <td>27th December 2023</td>\n",
       "      <td>United Kingdom</td>\n",
       "      <td>True</td>\n",
       "      <td>poor business class product ba even close airl...</td>\n",
       "    </tr>\n",
       "  </tbody>\n",
       "</table>\n",
       "</div>"
      ],
      "text/plain": [
       "                                             reviews  stars  \\\n",
       "0  Not Verified |  Extremely rude ground service....      5   \n",
       "1  ✅ Trip Verified |  My son and I flew to Geneva...      6   \n",
       "2  ✅ Trip Verified |  For the price paid (bought ...      1   \n",
       "3  ✅ Trip Verified |  Flight left on time and arr...      8   \n",
       "4  ✅ Trip Verified |  Very Poor Business class pr...      6   \n",
       "\n",
       "                 date         country  verified  \\\n",
       "0    3rd January 2024   United States     False   \n",
       "1    2nd January 2024           China      True   \n",
       "2  29th December 2023  United Kingdom      True   \n",
       "3  29th December 2023  United Kingdom      True   \n",
       "4  27th December 2023  United Kingdom      True   \n",
       "\n",
       "                                              corpus  \n",
       "0  verified extremely rude ground service non rev...  \n",
       "1  son flew geneva last sunday skiing holiday le ...  \n",
       "2  price paid bought sale decent experience altho...  \n",
       "3  flight left time arrived half hour earlier sch...  \n",
       "4  poor business class product ba even close airl...  "
      ]
     },
     "execution_count": 8,
     "metadata": {},
     "output_type": "execute_result"
    }
   ],
   "source": [
    "# Display the first few rows of the DataFrame 'df' using the 'head()' method\n",
    "df.head()\n"
   ]
  },
  {
   "cell_type": "markdown",
   "metadata": {},
   "source": [
    "### Cleaning/Fromat date"
   ]
  },
  {
   "cell_type": "code",
   "execution_count": 9,
   "metadata": {},
   "outputs": [
    {
     "data": {
      "text/plain": [
       "reviews     object\n",
       "stars        int64\n",
       "date        object\n",
       "country     object\n",
       "verified      bool\n",
       "corpus      object\n",
       "dtype: object"
      ]
     },
     "execution_count": 9,
     "metadata": {},
     "output_type": "execute_result"
    }
   ],
   "source": [
    "# Display the data types of each column in the DataFrame 'df'\n",
    "df.dtypes\n"
   ]
  },
  {
   "cell_type": "code",
   "execution_count": 10,
   "metadata": {},
   "outputs": [
    {
     "data": {
      "text/plain": [
       "reviews  stars  date   country  verified  corpus\n",
       "False    False  False  False    False     False     350\n",
       "Name: count, dtype: int64"
      ]
     },
     "execution_count": 10,
     "metadata": {},
     "output_type": "execute_result"
    }
   ],
   "source": [
    "# Check for null values in each column of the DataFrame 'df' and count their occurrences\n",
    "df.isnull().value_counts()\n"
   ]
  },
  {
   "cell_type": "code",
   "execution_count": 11,
   "metadata": {},
   "outputs": [
    {
     "data": {
      "text/plain": [
       "(350, 6)"
      ]
     },
     "execution_count": 11,
     "metadata": {},
     "output_type": "execute_result"
    }
   ],
   "source": [
    "# Display the number of rows and columns in the DataFrame 'df'\n",
    "df.shape"
   ]
  },
  {
   "cell_type": "code",
   "execution_count": 12,
   "metadata": {},
   "outputs": [
    {
     "data": {
      "text/html": [
       "<div>\n",
       "<style scoped>\n",
       "    .dataframe tbody tr th:only-of-type {\n",
       "        vertical-align: middle;\n",
       "    }\n",
       "\n",
       "    .dataframe tbody tr th {\n",
       "        vertical-align: top;\n",
       "    }\n",
       "\n",
       "    .dataframe thead th {\n",
       "        text-align: right;\n",
       "    }\n",
       "</style>\n",
       "<table border=\"1\" class=\"dataframe\">\n",
       "  <thead>\n",
       "    <tr style=\"text-align: right;\">\n",
       "      <th></th>\n",
       "      <th>reviews</th>\n",
       "      <th>stars</th>\n",
       "      <th>date</th>\n",
       "      <th>country</th>\n",
       "      <th>verified</th>\n",
       "      <th>corpus</th>\n",
       "    </tr>\n",
       "  </thead>\n",
       "  <tbody>\n",
       "    <tr>\n",
       "      <th>0</th>\n",
       "      <td>Not Verified |  Extremely rude ground service....</td>\n",
       "      <td>5</td>\n",
       "      <td>3rd January 2024</td>\n",
       "      <td>United States</td>\n",
       "      <td>False</td>\n",
       "      <td>verified extremely rude ground service non rev...</td>\n",
       "    </tr>\n",
       "    <tr>\n",
       "      <th>1</th>\n",
       "      <td>✅ Trip Verified |  My son and I flew to Geneva...</td>\n",
       "      <td>6</td>\n",
       "      <td>2nd January 2024</td>\n",
       "      <td>China</td>\n",
       "      <td>True</td>\n",
       "      <td>son flew geneva last sunday skiing holiday le ...</td>\n",
       "    </tr>\n",
       "    <tr>\n",
       "      <th>2</th>\n",
       "      <td>✅ Trip Verified |  For the price paid (bought ...</td>\n",
       "      <td>1</td>\n",
       "      <td>29th December 2023</td>\n",
       "      <td>United Kingdom</td>\n",
       "      <td>True</td>\n",
       "      <td>price paid bought sale decent experience altho...</td>\n",
       "    </tr>\n",
       "    <tr>\n",
       "      <th>3</th>\n",
       "      <td>✅ Trip Verified |  Flight left on time and arr...</td>\n",
       "      <td>8</td>\n",
       "      <td>29th December 2023</td>\n",
       "      <td>United Kingdom</td>\n",
       "      <td>True</td>\n",
       "      <td>flight left time arrived half hour earlier sch...</td>\n",
       "    </tr>\n",
       "    <tr>\n",
       "      <th>4</th>\n",
       "      <td>✅ Trip Verified |  Very Poor Business class pr...</td>\n",
       "      <td>6</td>\n",
       "      <td>27th December 2023</td>\n",
       "      <td>United Kingdom</td>\n",
       "      <td>True</td>\n",
       "      <td>poor business class product ba even close airl...</td>\n",
       "    </tr>\n",
       "    <tr>\n",
       "      <th>...</th>\n",
       "      <td>...</td>\n",
       "      <td>...</td>\n",
       "      <td>...</td>\n",
       "      <td>...</td>\n",
       "      <td>...</td>\n",
       "      <td>...</td>\n",
       "    </tr>\n",
       "    <tr>\n",
       "      <th>345</th>\n",
       "      <td>Not Verified | This review is for LHR-SYD-LHR....</td>\n",
       "      <td>6</td>\n",
       "      <td>27th December 2023</td>\n",
       "      <td>United Kingdom</td>\n",
       "      <td>False</td>\n",
       "      <td>verified review lhr syd lhr ba ba business cla...</td>\n",
       "    </tr>\n",
       "    <tr>\n",
       "      <th>346</th>\n",
       "      <td>✅ Trip Verified | Absolutely pathetic business...</td>\n",
       "      <td>2</td>\n",
       "      <td>23rd December 2023</td>\n",
       "      <td>United States</td>\n",
       "      <td>True</td>\n",
       "      <td>absolutely pathetic business class product ba ...</td>\n",
       "    </tr>\n",
       "    <tr>\n",
       "      <th>347</th>\n",
       "      <td>Not Verified |  Overall not bad. Staff look ti...</td>\n",
       "      <td>5</td>\n",
       "      <td>21st December 2023</td>\n",
       "      <td>Canada</td>\n",
       "      <td>False</td>\n",
       "      <td>verified overall bad staff look tired overwork...</td>\n",
       "    </tr>\n",
       "    <tr>\n",
       "      <th>348</th>\n",
       "      <td>✅ Trip Verified | This was our first flight wi...</td>\n",
       "      <td>3</td>\n",
       "      <td>21st December 2023</td>\n",
       "      <td>Australia</td>\n",
       "      <td>True</td>\n",
       "      <td>first flight british airway year usual fault c...</td>\n",
       "    </tr>\n",
       "    <tr>\n",
       "      <th>349</th>\n",
       "      <td>✅ Trip Verified | I recently encountered a hig...</td>\n",
       "      <td>6</td>\n",
       "      <td>21st December 2023</td>\n",
       "      <td>United States</td>\n",
       "      <td>True</td>\n",
       "      <td>recently encountered highly disappointing expe...</td>\n",
       "    </tr>\n",
       "  </tbody>\n",
       "</table>\n",
       "<p>350 rows × 6 columns</p>\n",
       "</div>"
      ],
      "text/plain": [
       "                                               reviews  stars  \\\n",
       "0    Not Verified |  Extremely rude ground service....      5   \n",
       "1    ✅ Trip Verified |  My son and I flew to Geneva...      6   \n",
       "2    ✅ Trip Verified |  For the price paid (bought ...      1   \n",
       "3    ✅ Trip Verified |  Flight left on time and arr...      8   \n",
       "4    ✅ Trip Verified |  Very Poor Business class pr...      6   \n",
       "..                                                 ...    ...   \n",
       "345  Not Verified | This review is for LHR-SYD-LHR....      6   \n",
       "346  ✅ Trip Verified | Absolutely pathetic business...      2   \n",
       "347  Not Verified |  Overall not bad. Staff look ti...      5   \n",
       "348  ✅ Trip Verified | This was our first flight wi...      3   \n",
       "349  ✅ Trip Verified | I recently encountered a hig...      6   \n",
       "\n",
       "                   date         country  verified  \\\n",
       "0      3rd January 2024   United States     False   \n",
       "1      2nd January 2024           China      True   \n",
       "2    29th December 2023  United Kingdom      True   \n",
       "3    29th December 2023  United Kingdom      True   \n",
       "4    27th December 2023  United Kingdom      True   \n",
       "..                  ...             ...       ...   \n",
       "345  27th December 2023  United Kingdom     False   \n",
       "346  23rd December 2023   United States      True   \n",
       "347  21st December 2023          Canada     False   \n",
       "348  21st December 2023       Australia      True   \n",
       "349  21st December 2023   United States      True   \n",
       "\n",
       "                                                corpus  \n",
       "0    verified extremely rude ground service non rev...  \n",
       "1    son flew geneva last sunday skiing holiday le ...  \n",
       "2    price paid bought sale decent experience altho...  \n",
       "3    flight left time arrived half hour earlier sch...  \n",
       "4    poor business class product ba even close airl...  \n",
       "..                                                 ...  \n",
       "345  verified review lhr syd lhr ba ba business cla...  \n",
       "346  absolutely pathetic business class product ba ...  \n",
       "347  verified overall bad staff look tired overwork...  \n",
       "348  first flight british airway year usual fault c...  \n",
       "349  recently encountered highly disappointing expe...  \n",
       "\n",
       "[350 rows x 6 columns]"
      ]
     },
     "execution_count": 12,
     "metadata": {},
     "output_type": "execute_result"
    }
   ],
   "source": [
    "# Reset the index of the DataFrame 'df' and drop the existing index\n",
    "df.reset_index(drop=True)\n"
   ]
  },
  {
   "cell_type": "markdown",
   "metadata": {},
   "source": [
    "Now our data is all cleaned and ready for data visualization and data analysis."
   ]
  },
  {
   "cell_type": "code",
   "execution_count": 13,
   "metadata": {},
   "outputs": [],
   "source": [
    "# Export the cleaned DataFrame 'df' to a CSV file named \"cleaned-BA-reviews.csv\" in the current working directory\n",
    "df.to_csv(cwd + \"/cleaned-BA-reviews.csv\")\n"
   ]
  }
 ],
 "metadata": {
  "kernelspec": {
   "display_name": "Python 3",
   "language": "python",
   "name": "python3"
  },
  "language_info": {
   "codemirror_mode": {
    "name": "ipython",
    "version": 3
   },
   "file_extension": ".py",
   "mimetype": "text/x-python",
   "name": "python",
   "nbconvert_exporter": "python",
   "pygments_lexer": "ipython3",
   "version": "3.12.0"
  }
 },
 "nbformat": 4,
 "nbformat_minor": 2
}
